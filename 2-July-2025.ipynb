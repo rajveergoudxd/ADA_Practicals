{
 "cells": [
  {
   "cell_type": "code",
   "execution_count": 6,
   "id": "fe085187",
   "metadata": {},
   "outputs": [
    {
     "name": "stdout",
     "output_type": "stream",
     "text": [
      "{'A': 0, 'B': inf, 'C': inf, 'D': inf}\n"
     ]
    },
    {
     "ename": "KeyError",
     "evalue": "'E'",
     "output_type": "error",
     "traceback": [
      "\u001b[31m---------------------------------------------------------------------------\u001b[39m",
      "\u001b[31mKeyError\u001b[39m                                  Traceback (most recent call last)",
      "\u001b[36mCell\u001b[39m\u001b[36m \u001b[39m\u001b[32mIn[6]\u001b[39m\u001b[32m, line 21\u001b[39m\n\u001b[32m     19\u001b[39m graph = {\u001b[33m\"\u001b[39m\u001b[33mA\u001b[39m\u001b[33m\"\u001b[39m:[(\u001b[33m\"\u001b[39m\u001b[33mB\u001b[39m\u001b[33m\"\u001b[39m,\u001b[32m4\u001b[39m),(\u001b[33m\"\u001b[39m\u001b[33mC\u001b[39m\u001b[33m\"\u001b[39m,\u001b[32m2\u001b[39m)],\u001b[33m\"\u001b[39m\u001b[33mB\u001b[39m\u001b[33m\"\u001b[39m:[(\u001b[33m\"\u001b[39m\u001b[33mA\u001b[39m\u001b[33m\"\u001b[39m,\u001b[32m4\u001b[39m),(\u001b[33m\"\u001b[39m\u001b[33mC\u001b[39m\u001b[33m\"\u001b[39m,\u001b[32m5\u001b[39m),(\u001b[33m\"\u001b[39m\u001b[33mD\u001b[39m\u001b[33m\"\u001b[39m,\u001b[32m10\u001b[39m)],\u001b[33m\"\u001b[39m\u001b[33mC\u001b[39m\u001b[33m\"\u001b[39m:[(\u001b[33m\"\u001b[39m\u001b[33mA\u001b[39m\u001b[33m\"\u001b[39m,\u001b[32m2\u001b[39m),(\u001b[33m\"\u001b[39m\u001b[33mB\u001b[39m\u001b[33m\"\u001b[39m,\u001b[32m5\u001b[39m),(\u001b[33m\"\u001b[39m\u001b[33mD\u001b[39m\u001b[33m\"\u001b[39m,\u001b[32m3\u001b[39m)], \u001b[33m\"\u001b[39m\u001b[33mD\u001b[39m\u001b[33m\"\u001b[39m:[(\u001b[33m\"\u001b[39m\u001b[33mB\u001b[39m\u001b[33m\"\u001b[39m,\u001b[32m10\u001b[39m),(\u001b[33m\"\u001b[39m\u001b[33mC\u001b[39m\u001b[33m\"\u001b[39m,\u001b[32m3\u001b[39m),(\u001b[33m\"\u001b[39m\u001b[33mE\u001b[39m\u001b[33m\"\u001b[39m,\u001b[32m1\u001b[39m)]}\n\u001b[32m     20\u001b[39m source = \u001b[33m\"\u001b[39m\u001b[33mA\u001b[39m\u001b[33m\"\u001b[39m\n\u001b[32m---> \u001b[39m\u001b[32m21\u001b[39m \u001b[43mdij\u001b[49m\u001b[43m(\u001b[49m\u001b[43mgraph\u001b[49m\u001b[43m,\u001b[49m\u001b[43msource\u001b[49m\u001b[43m)\u001b[49m\n",
      "\u001b[36mCell\u001b[39m\u001b[36m \u001b[39m\u001b[32mIn[6]\u001b[39m\u001b[32m, line 14\u001b[39m, in \u001b[36mdij\u001b[39m\u001b[34m(graph, source)\u001b[39m\n\u001b[32m     12\u001b[39m \u001b[38;5;28;01mfor\u001b[39;00m neighbours, weight \u001b[38;5;129;01min\u001b[39;00m graph[current_vertex]:\n\u001b[32m     13\u001b[39m     d=current_distance+weight\n\u001b[32m---> \u001b[39m\u001b[32m14\u001b[39m     \u001b[38;5;28;01mif\u001b[39;00m d<\u001b[43mdistance\u001b[49m\u001b[43m[\u001b[49m\u001b[43mneighbours\u001b[49m\u001b[43m]\u001b[49m:\n\u001b[32m     15\u001b[39m         distance[neighbours]=d\n\u001b[32m     16\u001b[39m         heapq.heappush(priority_queue,(d, neighbours))\n",
      "\u001b[31mKeyError\u001b[39m: 'E'"
     ]
    }
   ],
   "source": [
    "import heapq\n",
    "\n",
    "def dij(graph, source):\n",
    "    distance = {vertex:float(\"inf\") for vertex in graph}\n",
    "    distance[source] = 0\n",
    "    print(distance)\n",
    "    priority_queue=[(0, source)]\n",
    "    while priority_queue:\n",
    "        current_distance, current_vertex = heapq.heappop(priority_queue)\n",
    "        if(current_distance>distance[current_vertex]):\n",
    "            continue\n",
    "        for neighbours, weight in graph[current_vertex]:\n",
    "            d=current_distance+weight\n",
    "            if d<distance[neighbours]:\n",
    "                distance[neighbours]=d\n",
    "                heapq.heappush(priority_queue,(d, neighbours))\n",
    "    return distance\n",
    "\n",
    "graph = {\"A\":[(\"B\",4),(\"C\",2)],\"B\":[(\"A\",4),(\"C\",5),(\"D\",10)],\"C\":[(\"A\",2),(\"B\",5),(\"D\",3)], \"D\":[(\"B\",10),(\"C\",3),(\"E\",1)]}\n",
    "source = \"A\"\n",
    "dij(graph,source)"
   ]
  },
  {
   "cell_type": "code",
   "execution_count": null,
   "id": "81f4f867",
   "metadata": {},
   "outputs": [],
   "source": []
  }
 ],
 "metadata": {
  "kernelspec": {
   "display_name": "Python 3",
   "language": "python",
   "name": "python3"
  },
  "language_info": {
   "codemirror_mode": {
    "name": "ipython",
    "version": 3
   },
   "file_extension": ".py",
   "mimetype": "text/x-python",
   "name": "python",
   "nbconvert_exporter": "python",
   "pygments_lexer": "ipython3",
   "version": "3.12.1"
  }
 },
 "nbformat": 4,
 "nbformat_minor": 5
}
