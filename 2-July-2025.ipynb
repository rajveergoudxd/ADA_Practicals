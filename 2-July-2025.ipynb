{
 "cells": [
  {
   "cell_type": "code",
   "execution_count": 2,
   "id": "fe085187",
   "metadata": {},
   "outputs": [],
   "source": [
    "import heapq\n",
    "\n",
    "def dijkstra(graph, source):\n",
    "    distance = {vertex:float(\"inf\") for vertex in graph}\n",
    "    distance[source] = 0\n",
    "    print(distance)\n",
    "    priority_queue=[(0, source)]\n",
    "    while priority_queue:\n",
    "        current_distance, current_vertex = heapq.heappop()\n",
    "\n",
    "graph = {\"A\":[(\"B\",4),(\"C\",2)],\"B\":[(\"A\",4),(\"C\",5),(\"D\",10)],\"C\":[(\"A\",2),(\"B\",5),(\"D\",3)], \"D\":[(\"B\",10),(\"C\",3),(\"E\",1)]}"
   ]
  },
  {
   "cell_type": "code",
   "execution_count": null,
   "id": "81f4f867",
   "metadata": {},
   "outputs": [],
   "source": []
  }
 ],
 "metadata": {
  "kernelspec": {
   "display_name": "Python 3",
   "language": "python",
   "name": "python3"
  },
  "language_info": {
   "codemirror_mode": {
    "name": "ipython",
    "version": 3
   },
   "file_extension": ".py",
   "mimetype": "text/x-python",
   "name": "python",
   "nbconvert_exporter": "python",
   "pygments_lexer": "ipython3",
   "version": "3.12.1"
  }
 },
 "nbformat": 4,
 "nbformat_minor": 5
}
